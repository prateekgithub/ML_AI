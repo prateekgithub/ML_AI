{
 "cells": [
  {
   "cell_type": "code",
   "execution_count": 3,
   "metadata": {},
   "outputs": [
    {
     "name": "stdout",
     "output_type": "stream",
     "text": [
      "{'Prediction: ': [1]}\n"
     ]
    }
   ],
   "source": [
    "#from flask import Flask\n",
    "#from flask import request\n",
    "\n",
    "import requests\n",
    "\n",
    "url = 'http://localhost:5000/predict'\n",
    "\n",
    "pred1 = requests.post(url, json={'features':[2,197,70,45,543,30.5,0.158,53]})\n",
    "print(pred1.json())\n",
    "\n",
    "#pred2 = requests.post(url, json={'features':[1,89,66,23,94,28.1,0.167,21]})\n",
    "#print(pred2.json())"
   ]
  },
  {
   "cell_type": "code",
   "execution_count": null,
   "metadata": {},
   "outputs": [],
   "source": []
  },
  {
   "cell_type": "code",
   "execution_count": null,
   "metadata": {},
   "outputs": [],
   "source": []
  }
 ],
 "metadata": {
  "kernelspec": {
   "display_name": "Python 3",
   "language": "python",
   "name": "python3"
  },
  "language_info": {
   "codemirror_mode": {
    "name": "ipython",
    "version": 3
   },
   "file_extension": ".py",
   "mimetype": "text/x-python",
   "name": "python",
   "nbconvert_exporter": "python",
   "pygments_lexer": "ipython3",
   "version": "3.7.7"
  }
 },
 "nbformat": 4,
 "nbformat_minor": 2
}
