{
 "cells": [
  {
   "cell_type": "code",
   "execution_count": 1,
   "metadata": {},
   "outputs": [],
   "source": [
    "import pandas as pd\n",
    "import numpy as np\n",
    "#from sklearn import linear_model\n",
    "import pickle"
   ]
  },
  {
   "cell_type": "code",
   "execution_count": 2,
   "metadata": {},
   "outputs": [],
   "source": [
    "# Creating web server using flask here. \n",
    "# It has two routes defined. One for printing \"Hello Mukesh\"\n",
    "# The other to call the predict() function of the model\n",
    "\n",
    "from flask import Flask\n",
    "from flask import request\n",
    "from flask import jsonify\n",
    "\n",
    "#code which helps initialize our server\n",
    "app = Flask(__name__)\n",
    "\n",
    "\n",
    "# Using pickle to upload the model into memory of the webserver\n",
    "# Linear models hold only the coefficients and the intercept. All these will be available in the object\n",
    "# Had this been KNN, then we need to install the database and connnect the model to the dataset as KNN needs entier data\n",
    "\n",
    "model = pickle.load(open(\"Logit_model-2.sav\",\"rb\"  ))    # Deserializing the model from the .pkl file. This should be available on server\n",
    "\n",
    "@app.route('/predict', methods=['POST'])    # What needs to be done for request to predict\n",
    "\n",
    "\n",
    "def predict():\n",
    "    #grabbing a set of wine features from the request's body\n",
    "    feature_array = np.array(request.get_json()['features'])\n",
    "\n",
    "    #our model rates the wine based on the input array\n",
    "    prediction = model.predict([feature_array]).tolist()\n",
    "        \n",
    "    #preparing a response object and storing the model's predictions\n",
    "    response = {}\n",
    "    response['Prediction: '] = prediction\n",
    "    \n",
    "    #sending our response object back as json\n",
    "    # return flask.jsonify(response)\n",
    "    return jsonify(response)\n"
   ]
  },
  {
   "cell_type": "code",
   "execution_count": 3,
   "metadata": {},
   "outputs": [
    {
     "name": "stdout",
     "output_type": "stream",
     "text": [
      " * Serving Flask app \"__main__\" (lazy loading)\n",
      " * Environment: production\n",
      "   WARNING: This is a development server. Do not use it in a production deployment.\n",
      "   Use a production WSGI server instead.\n",
      " * Debug mode: on\n"
     ]
    },
    {
     "name": "stderr",
     "output_type": "stream",
     "text": [
      " * Running on http://127.0.0.1:5000/ (Press CTRL+C to quit)\n",
      "127.0.0.1 - - [24/Apr/2020 02:08:59] \"\u001b[37mPOST /predict HTTP/1.1\u001b[0m\" 200 -\n",
      "127.0.0.1 - - [24/Apr/2020 02:09:06] \"\u001b[37mPOST /predict HTTP/1.1\u001b[0m\" 200 -\n",
      "127.0.0.1 - - [24/Apr/2020 02:09:08] \"\u001b[37mPOST /predict HTTP/1.1\u001b[0m\" 200 -\n",
      "127.0.0.1 - - [24/Apr/2020 02:09:31] \"\u001b[37mPOST /predict HTTP/1.1\u001b[0m\" 200 -\n"
     ]
    }
   ],
   "source": [
    "if __name__ == '__main__':\n",
    "    app.run(port=5000, debug=True , use_reloader=False)"
   ]
  },
  {
   "cell_type": "code",
   "execution_count": null,
   "metadata": {},
   "outputs": [],
   "source": []
  }
 ],
 "metadata": {
  "kernelspec": {
   "display_name": "Python 3",
   "language": "python",
   "name": "python3"
  },
  "language_info": {
   "codemirror_mode": {
    "name": "ipython",
    "version": 3
   },
   "file_extension": ".py",
   "mimetype": "text/x-python",
   "name": "python",
   "nbconvert_exporter": "python",
   "pygments_lexer": "ipython3",
   "version": "3.7.7"
  }
 },
 "nbformat": 4,
 "nbformat_minor": 2
}
